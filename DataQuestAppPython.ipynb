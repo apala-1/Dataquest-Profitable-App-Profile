{
 "cells": [
  {
   "cell_type": "markdown",
   "metadata": {},
   "source": [
    "# Analysing data about Playstore and AppStore applications\n",
    "\n",
    "This project included the data analysis and it's findings for various _Android_ and _iOS_ mobile apps. \n",
    "\n",
    "The goal of this project is to analyze data to __help developers understand what type of apps are likely to attract more users__.\n",
    "\n",
    "Below, we `import` csv and the 2 datasets that we need and transform the 2 latter into `list of lists`.\n"
   ]
  },
  {
   "cell_type": "code",
   "execution_count": 1,
   "metadata": {},
   "outputs": [],
   "source": [
    "import csv\n",
    "appstore_data = open(\"AppleStore.csv\", encoding=\"utf-8\")\n",
    "playstore_data = open(\"googleplaystore.csv\", encoding=\"utf-8\")"
   ]
  },
  {
   "cell_type": "code",
   "execution_count": 2,
   "metadata": {},
   "outputs": [],
   "source": [
    "ios_read = csv.reader(appstore_data)\n",
    "ios = list(ios_read)"
   ]
  },
  {
   "cell_type": "code",
   "execution_count": 3,
   "metadata": {},
   "outputs": [],
   "source": [
    "android_read = csv.reader(playstore_data)\n",
    "android = list(android_read)"
   ]
  },
  {
   "cell_type": "markdown",
   "metadata": {},
   "source": [
    "Then, we define a `function` called __explore_data__ having 4 parameters.\n",
    "\n",
    "This `function` can be used to `print` out the set number of rows and columns from any dataset.\n",
    "\n",
    "We also test this `function` in our 2 datasets."
   ]
  },
  {
   "cell_type": "code",
   "execution_count": 4,
   "metadata": {},
   "outputs": [],
   "source": [
    "def explore_data(dataset, start, end, rows_and_columns = False):\n",
    "    dataset_slice = dataset[start:end]\n",
    "    for row in dataset_slice:\n",
    "        print(row)\n",
    "        print(\"\\n\")\n",
    "        \n",
    "    if rows_and_columns:\n",
    "        print(\"Number of rows: \", len(dataset))\n",
    "        print(\"Number of columns: \", len(dataset[0]))"
   ]
  },
  {
   "cell_type": "code",
   "execution_count": 5,
   "metadata": {},
   "outputs": [
    {
     "name": "stdout",
     "output_type": "stream",
     "text": [
      "['id', 'track_name', 'size_bytes', 'currency', 'price', 'rating_count_tot', 'rating_count_ver', 'user_rating', 'user_rating_ver', 'ver', 'cont_rating', 'prime_genre', 'sup_devices.num', 'ipadSc_urls.num', 'lang.num', 'vpp_lic']\n",
      "\n",
      "\n",
      "['284882215', 'Facebook', '389879808', 'USD', '0.0', '2974676', '212', '3.5', '3.5', '95.0', '4+', 'Social Networking', '37', '1', '29', '1']\n",
      "\n",
      "\n",
      "['389801252', 'Instagram', '113954816', 'USD', '0.0', '2161558', '1289', '4.5', '4.0', '10.23', '12+', 'Photo & Video', '37', '0', '29', '1']\n",
      "\n",
      "\n",
      "Number of rows:  7198\n",
      "Number of columns:  16\n"
     ]
    }
   ],
   "source": [
    "explore_data(ios, 0, 3, rows_and_columns = True)"
   ]
  },
  {
   "cell_type": "code",
   "execution_count": 6,
   "metadata": {},
   "outputs": [
    {
     "name": "stdout",
     "output_type": "stream",
     "text": [
      "['App', 'Category', 'Rating', 'Reviews', 'Size', 'Installs', 'Type', 'Price', 'Content Rating', 'Genres', 'Last Updated', 'Current Ver', 'Android Ver']\n",
      "\n",
      "\n",
      "['Photo Editor & Candy Camera & Grid & ScrapBook', 'ART_AND_DESIGN', '4.1', '159', '19M', '10,000+', 'Free', '0', 'Everyone', 'Art & Design', 'January 7, 2018', '1.0.0', '4.0.3 and up']\n",
      "\n",
      "\n",
      "['Coloring book moana', 'ART_AND_DESIGN', '3.9', '967', '14M', '500,000+', 'Free', '0', 'Everyone', 'Art & Design;Pretend Play', 'January 15, 2018', '2.0.0', '4.0.3 and up']\n",
      "\n",
      "\n",
      "Number of rows:  10842\n",
      "Number of columns:  13\n"
     ]
    }
   ],
   "source": [
    "explore_data(android, 0, 3, rows_and_columns = True)"
   ]
  },
  {
   "cell_type": "markdown",
   "metadata": {},
   "source": [
    "Now, we check if our data has any _empty rows_ or _short rows_ and we keep only the rows that are not both into out new lists __andriodC__ and __iosC__."
   ]
  },
  {
   "cell_type": "code",
   "execution_count": 7,
   "metadata": {},
   "outputs": [
    {
     "name": "stdout",
     "output_type": "stream",
     "text": [
      "short row\n"
     ]
    }
   ],
   "source": [
    "androidC = []\n",
    "\n",
    "for app in android:\n",
    "    if len(app) > 0 and len(app) == 13:\n",
    "        androidC.append(app)\n",
    "    elif len(app) > 0 and len(app) < 13:\n",
    "        print(\"short row\")\n",
    "    else:\n",
    "        print(\"empty row\")"
   ]
  },
  {
   "cell_type": "code",
   "execution_count": 8,
   "metadata": {},
   "outputs": [],
   "source": [
    "iosC = []\n",
    "\n",
    "for app in ios:\n",
    "    if len(app) > 0 and len(app) == 16:\n",
    "        iosC.append(app)\n",
    "    elif len(app) > 0 and len(app) < 16:\n",
    "        print(\"short row\")\n",
    "    else:\n",
    "        print(\"empty row\")"
   ]
  },
  {
   "cell_type": "markdown",
   "metadata": {},
   "source": [
    "After that, we check if both our datasets contain any __duplicate__ rows. First, we check how many instances of Instagram are in the `name column` for both datasets and we see a _couple of duplicates_ in the __android__ data.\n",
    "\n",
    "Then, we check the length of duplicate data in both datasets and found that only __2 rows__ are duplicate in __ios__ while __1181 rows__ are duplicated in the __android__ dataset."
   ]
  },
  {
   "cell_type": "code",
   "execution_count": 9,
   "metadata": {},
   "outputs": [
    {
     "name": "stdout",
     "output_type": "stream",
     "text": [
      "['Instagram', 'SOCIAL', '4.5', '66577313', 'Varies with device', '1,000,000,000+', 'Free', '0', 'Teen', 'Social', 'July 31, 2018', 'Varies with device', 'Varies with device']\n",
      "['Instagram', 'SOCIAL', '4.5', '66577446', 'Varies with device', '1,000,000,000+', 'Free', '0', 'Teen', 'Social', 'July 31, 2018', 'Varies with device', 'Varies with device']\n",
      "['Instagram', 'SOCIAL', '4.5', '66577313', 'Varies with device', '1,000,000,000+', 'Free', '0', 'Teen', 'Social', 'July 31, 2018', 'Varies with device', 'Varies with device']\n",
      "['Instagram', 'SOCIAL', '4.5', '66509917', 'Varies with device', '1,000,000,000+', 'Free', '0', 'Teen', 'Social', 'July 31, 2018', 'Varies with device', 'Varies with device']\n"
     ]
    }
   ],
   "source": [
    "for app in androidC:\n",
    "    name = app[0]\n",
    "    if name == \"Instagram\":\n",
    "        print(app)"
   ]
  },
  {
   "cell_type": "code",
   "execution_count": 10,
   "metadata": {},
   "outputs": [
    {
     "name": "stdout",
     "output_type": "stream",
     "text": [
      "['389801252', 'Instagram', '113954816', 'USD', '0.0', '2161558', '1289', '4.5', '4.0', '10.23', '12+', 'Photo & Video', '37', '0', '29', '1']\n"
     ]
    }
   ],
   "source": [
    "for app in iosC:\n",
    "    name = app[1]\n",
    "    if name == \"Instagram\":\n",
    "        print(app)"
   ]
  },
  {
   "cell_type": "markdown",
   "metadata": {},
   "source": [
    "Below, we add all the `unique` rows of both datasets to _oai (original_app_ios)_ and _oaa (original_app_android)_ respectively."
   ]
  },
  {
   "cell_type": "code",
   "execution_count": 11,
   "metadata": {},
   "outputs": [
    {
     "name": "stdout",
     "output_type": "stream",
     "text": [
      "2\n",
      "7196\n"
     ]
    }
   ],
   "source": [
    "dai = []\n",
    "oai = []\n",
    "\n",
    "\n",
    "for i in iosC:\n",
    "    name = i[1]\n",
    "    if name in oai:\n",
    "        dai.append(name)\n",
    "    else:\n",
    "        oai.append(name)\n",
    "        \n",
    "print(len(dai))\n",
    "print(len(oai))"
   ]
  },
  {
   "cell_type": "code",
   "execution_count": 12,
   "metadata": {},
   "outputs": [
    {
     "name": "stdout",
     "output_type": "stream",
     "text": [
      "1181\n",
      "9660\n"
     ]
    }
   ],
   "source": [
    "daa = []\n",
    "oaa = []\n",
    "\n",
    "\n",
    "for i in androidC:\n",
    "    name = i[0]\n",
    "    if name in oaa:\n",
    "        daa.append(name)\n",
    "    else:\n",
    "        oaa.append(name)\n",
    "        \n",
    "print(len(daa))\n",
    "print(len(oaa))"
   ]
  },
  {
   "cell_type": "markdown",
   "metadata": {},
   "source": [
    "Below, we create a dictationary `reviews_max` which counts the `reviews` of all apps and takes the greatest `value` of `review` when there's duplication."
   ]
  },
  {
   "cell_type": "code",
   "execution_count": 13,
   "metadata": {},
   "outputs": [
    {
     "name": "stdout",
     "output_type": "stream",
     "text": [
      "9659\n"
     ]
    }
   ],
   "source": [
    "reviews_max = {}\n",
    "\n",
    "for i in androidC[1:]:\n",
    "    name = i[0]\n",
    "    n_reviews = float(i[3])\n",
    "    if (name in reviews_max) and reviews_max[name] < n_reviews:\n",
    "        reviews_max[name] = n_reviews\n",
    "    elif (name not in reviews_max):\n",
    "        reviews_max[name] = n_reviews\n",
    "        \n",
    "print(len(reviews_max))"
   ]
  },
  {
   "cell_type": "markdown",
   "metadata": {},
   "source": [
    "Below, we create 2 empty `lists`.\n",
    "\n",
    "Then, we `loop` through the __android dataset__ (without headers), assign the _name_ and _no of reviews_ to the `name` and `n_reviews` variables respectively.\n",
    "\n",
    "Then if `n_reviews` is equal to the __reviews from the dictationary__ (that we created previously), and the `name` is not yet in our of out empty lists (`already_added`), then we `append` the __entire row__ to `android_clean` and the `name` to `already_added`.\n",
    "\n",
    "Finally, we `print` the `length` of the `android_clean` list and the `already_added` list."
   ]
  },
  {
   "cell_type": "code",
   "execution_count": 15,
   "metadata": {},
   "outputs": [
    {
     "name": "stdout",
     "output_type": "stream",
     "text": [
      "9659\n",
      "9659\n"
     ]
    }
   ],
   "source": [
    "android_clean = []\n",
    "already_added = []\n",
    "\n",
    "for i in androidC[1:]:\n",
    "    name = i[0]\n",
    "    n_reviews = float(i[3])\n",
    "    if (n_reviews == reviews_max[name]) and (name not in already_added):\n",
    "        android_clean.append(i)\n",
    "        already_added.append(name)\n",
    "        \n",
    "# for i in android_clean:\n",
    "#     print(i)\n",
    "    \n",
    "print(len(android_clean))\n",
    "print(len(already_added))"
   ]
  },
  {
   "cell_type": "code",
   "execution_count": 16,
   "metadata": {},
   "outputs": [],
   "source": [
    "def english_or_not(string):\n",
    "    not_ascii = 0\n",
    "    for i in string:\n",
    "        if (ord(i) > 127) or (ord(i) < 0):\n",
    "            not_ascii += 1     \n",
    "    if not_ascii > 3:\n",
    "        return False\n",
    "    else:\n",
    "        return True"
   ]
  },
  {
   "cell_type": "code",
   "execution_count": 17,
   "metadata": {},
   "outputs": [
    {
     "name": "stdout",
     "output_type": "stream",
     "text": [
      "True\n",
      "False\n",
      "True\n",
      "True\n"
     ]
    }
   ],
   "source": [
    "print(english_or_not('Instagram'))\n",
    "print(english_or_not('爱奇艺PPS -《欢乐颂2》电视剧热播'))\n",
    "print(english_or_not('Docs To Go™ Free Office Suite'))\n",
    "print(english_or_not('Instachat 😜'))"
   ]
  },
  {
   "cell_type": "code",
   "execution_count": 18,
   "metadata": {},
   "outputs": [],
   "source": [
    "english_apps = []\n",
    "\n",
    "for i in android_clean:\n",
    "    name = i[0]\n",
    "    if (english_or_not(name)):\n",
    "        english_apps.append(i)"
   ]
  },
  {
   "cell_type": "code",
   "execution_count": 19,
   "metadata": {},
   "outputs": [
    {
     "name": "stdout",
     "output_type": "stream",
     "text": [
      "9614\n",
      "['U Launcher Lite – FREE Live Cool Themes, Hide Apps', 'ART_AND_DESIGN', '4.7', '87510', '8.7M', '5,000,000+', 'Free', '0', 'Everyone', 'Art & Design', 'August 1, 2018', '1.2.4', '4.0.3 and up']\n"
     ]
    }
   ],
   "source": [
    "print(len(english_apps))\n",
    "print(english_apps[1])"
   ]
  },
  {
   "cell_type": "code",
   "execution_count": 20,
   "metadata": {},
   "outputs": [
    {
     "name": "stdout",
     "output_type": "stream",
     "text": [
      "8863\n"
     ]
    }
   ],
   "source": [
    "free_apps = []\n",
    "\n",
    "for i in english_apps:\n",
    "    if_free = i[6]\n",
    "    price = i[7]\n",
    "    if (if_free == \"Free\") and (price == \"0\"):\n",
    "        free_apps.append(i)\n",
    "        \n",
    "print(len(free_apps))   \n"
   ]
  },
  {
   "cell_type": "code",
   "execution_count": 21,
   "metadata": {},
   "outputs": [
    {
     "name": "stdout",
     "output_type": "stream",
     "text": [
      "7198\n",
      "6184\n"
     ]
    }
   ],
   "source": [
    "print(len(iosC))\n",
    "\n",
    "english_apps_ios = []\n",
    "\n",
    "for i in iosC:\n",
    "    name = i[1]\n",
    "    if (english_or_not(name)):\n",
    "        english_apps_ios.append(i)\n",
    "        \n",
    "print(len(english_apps_ios))"
   ]
  },
  {
   "cell_type": "code",
   "execution_count": 22,
   "metadata": {},
   "outputs": [
    {
     "name": "stdout",
     "output_type": "stream",
     "text": [
      "3222\n",
      "['389801252', 'Instagram', '113954816', 'USD', '0.0', '2161558', '1289', '4.5', '4.0', '10.23', '12+', 'Photo & Video', '37', '0', '29', '1']\n"
     ]
    }
   ],
   "source": [
    "free_apps_ios = []\n",
    "\n",
    "for i in english_apps_ios:\n",
    "    price = i[4]\n",
    "    \n",
    "    if price == \"0.0\":\n",
    "        free_apps_ios.append(i)\n",
    "\n",
    "print(len(free_apps_ios))\n",
    "print(free_apps_ios[1])"
   ]
  },
  {
   "cell_type": "markdown",
   "metadata": {},
   "source": [
    "We completed cleaning the code above. In `free_apps_ios`, we have __3222__ data and in `free_apps`, we have __6184__ data."
   ]
  },
  {
   "cell_type": "markdown",
   "metadata": {},
   "source": [
    "# Analysis"
   ]
  },
  {
   "cell_type": "markdown",
   "metadata": {},
   "source": [
    "Here, we need to make sure that the app profile fits both App Store and Google Play. This is because our strategy goes like this:\n",
    "\n",
    "- We create the minimal version of an app\n",
    "- We add it to Google Play Store\n",
    "- We wait 6 months\n",
    "- If the app is successful, we build and add it to the App Store\n",
    "\n",
    "We need to find apps successful in both markets because that would help us raise our profits."
   ]
  },
  {
   "cell_type": "code",
   "execution_count": 23,
   "metadata": {},
   "outputs": [
    {
     "name": "stdout",
     "output_type": "stream",
     "text": [
      "['Photo Editor & Candy Camera & Grid & ScrapBook', 'ART_AND_DESIGN', '4.1', '159', '19M', '10,000+', 'Free', '0', 'Everyone', 'Art & Design', 'January 7, 2018', '1.0.0', '4.0.3 and up']\n",
      "['284882215', 'Facebook', '389879808', 'USD', '0.0', '2974676', '212', '3.5', '3.5', '95.0', '4+', 'Social Networking', '37', '1', '29', '1']\n"
     ]
    }
   ],
   "source": [
    "free_apps_android = free_apps\n",
    "\n",
    "print(free_apps_android[0])\n",
    "print(free_apps_ios[0])"
   ]
  },
  {
   "cell_type": "code",
   "execution_count": 24,
   "metadata": {},
   "outputs": [
    {
     "name": "stdout",
     "output_type": "stream",
     "text": [
      "('ART_AND_DESIGN', 57)\n",
      "('Social Networking', 106)\n"
     ]
    }
   ],
   "source": [
    "android_freq = {}\n",
    "ios_freq = {}\n",
    "\n",
    "for i in free_apps_android:\n",
    "    genre = i[1]\n",
    "    if genre in android_freq:\n",
    "        android_freq[genre] += 1\n",
    "    else:\n",
    "        android_freq[genre] = 1\n",
    "        \n",
    "\n",
    "for i in free_apps_ios:\n",
    "    genre = i[-5]\n",
    "    if genre in ios_freq:\n",
    "        ios_freq[genre] += 1\n",
    "    else:\n",
    "        ios_freq[genre] = 1\n",
    "    \n",
    "# for i,j in android_freq.items():\n",
    "#     print(i + \" : \" + str(j))\n",
    "# for i,j in ios_freq.items():\n",
    "#     print(i + \" : \" + str(j))\n",
    "\n",
    "print(next(iter(android_freq.items())))\n",
    "print(next(iter(ios_freq.items())))"
   ]
  },
  {
   "cell_type": "code",
   "execution_count": 25,
   "metadata": {},
   "outputs": [
    {
     "name": "stdout",
     "output_type": "stream",
     "text": [
      "FAMILY : 1675\n",
      "Games : 1874\n"
     ]
    }
   ],
   "source": [
    "max_val_and = 0\n",
    "max_key_and = ''\n",
    "for i,j in android_freq.items():\n",
    "    if(max_val_and < j):\n",
    "        max_val_and = j\n",
    "        max_key_and = i\n",
    "    \n",
    "print(max_key_and + \" : \" + str(max_val_and))\n",
    "\n",
    "max_val_ios = 0\n",
    "max_key_ios = ''\n",
    "for i,j in ios_freq.items():\n",
    "    if(max_val_ios < j):\n",
    "        max_val_ios = j\n",
    "        max_key_ios = i\n",
    "    \n",
    "print(max_key_ios + \" : \" + str(max_val_ios))"
   ]
  },
  {
   "cell_type": "code",
   "execution_count": 26,
   "metadata": {},
   "outputs": [],
   "source": [
    "def freq_table(dataset, index):\n",
    "    new_dict = {}\n",
    "    total_values = 0\n",
    "    data = 0\n",
    "    for i in dataset:\n",
    "        if i[index] in new_dict:\n",
    "            new_dict[i[index]] += 1\n",
    "            data += 1\n",
    "        else:\n",
    "            new_dict[i[index]] = 1\n",
    "            data +=1\n",
    "           \n",
    "    for values in new_dict.values():\n",
    "        total_values = total_values + values\n",
    "        \n",
    "    print(total_values)\n",
    "    \n",
    "    for keys, values in new_dict.items():\n",
    "        def find_percent(values, total_values):\n",
    "            percentage = (values/total_values) * 100\n",
    "            return percentage\n",
    "        new_dict[keys] = (new_dict.get(keys), find_percent(values, total_values))\n",
    "        \n",
    "    return new_dict"
   ]
  },
  {
   "cell_type": "code",
   "execution_count": 27,
   "metadata": {},
   "outputs": [
    {
     "name": "stdout",
     "output_type": "stream",
     "text": [
      "8863\n"
     ]
    }
   ],
   "source": [
    "new = freq_table(free_apps_android, 1)"
   ]
  },
  {
   "cell_type": "code",
   "execution_count": 28,
   "metadata": {},
   "outputs": [],
   "source": [
    "def display_table(dataset, index):\n",
    "    table = freq_table(dataset, index)\n",
    "    table_display = []\n",
    "    for key in table:\n",
    "        key_val_as_tuple = (table[key], key)\n",
    "        table_display.append(key_val_as_tuple)\n",
    "\n",
    "    table_sorted = sorted(table_display, reverse = True)\n",
    "    for entry in table_sorted:\n",
    "        print(entry[1], ':', entry[0])\n",
    "        "
   ]
  },
  {
   "cell_type": "code",
   "execution_count": 29,
   "metadata": {},
   "outputs": [
    {
     "name": "stdout",
     "output_type": "stream",
     "text": [
      "3222\n",
      "Games : (1874, 58.16263190564867)\n",
      "Entertainment : (254, 7.883302296710118)\n",
      "Photo & Video : (160, 4.9658597144630665)\n",
      "Education : (118, 3.662321539416512)\n",
      "Social Networking : (106, 3.2898820608317814)\n",
      "Shopping : (84, 2.60707635009311)\n",
      "Utilities : (81, 2.5139664804469275)\n",
      "Sports : (69, 2.1415270018621975)\n",
      "Music : (66, 2.0484171322160147)\n",
      "Health & Fitness : (65, 2.0173805090006205)\n",
      "Productivity : (56, 1.7380509000620732)\n",
      "Lifestyle : (51, 1.5828677839851024)\n",
      "News : (43, 1.3345747982619491)\n",
      "Travel : (40, 1.2414649286157666)\n",
      "Finance : (36, 1.1173184357541899)\n",
      "Weather : (28, 0.8690254500310366)\n",
      "Food & Drink : (26, 0.8069522036002483)\n",
      "Reference : (18, 0.5586592178770949)\n",
      "Business : (17, 0.5276225946617008)\n",
      "Book : (14, 0.4345127250155183)\n",
      "Navigation : (6, 0.186219739292365)\n",
      "Medical : (6, 0.186219739292365)\n",
      "Catalogs : (4, 0.12414649286157665)\n"
     ]
    }
   ],
   "source": [
    "display_table(free_apps_ios, -5)"
   ]
  },
  {
   "cell_type": "markdown",
   "metadata": {},
   "source": [
    "Above, we see that `Games` is the most common genre with over __1800 counts__ while `Catalogs` is the least common genre will just __4 counts__. `Games` can be seen as an `outlier` here as __58%__ of all apps are `games`. We also see that there are more apps designed for `entertainment purposes`, because even after `Games`, the second highest is `Entertainment` with __7.88%__ , then again `Photo & Video` on third with __4.96%__.\n",
    "\n",
    "Apps designed for practical purposes lie mostly on the middle."
   ]
  },
  {
   "cell_type": "code",
   "execution_count": 32,
   "metadata": {},
   "outputs": [
    {
     "name": "stdout",
     "output_type": "stream",
     "text": [
      "8863\n",
      "FAMILY : (1675, 18.898792733837304)\n",
      "GAME : (862, 9.725826469592688)\n",
      "TOOLS : (750, 8.462146000225657)\n",
      "BUSINESS : (407, 4.592124562789123)\n",
      "LIFESTYLE : (346, 3.9038700214374367)\n",
      "PRODUCTIVITY : (345, 3.8925871601038025)\n",
      "FINANCE : (328, 3.7007785174320205)\n",
      "MEDICAL : (313, 3.5315355974275078)\n",
      "SPORTS : (301, 3.396141261423897)\n",
      "PERSONALIZATION : (294, 3.317161232088458)\n",
      "COMMUNICATION : (287, 3.2381812027530184)\n",
      "HEALTH_AND_FITNESS : (273, 3.0802211440821394)\n",
      "PHOTOGRAPHY : (261, 2.944826808078529)\n",
      "NEWS_AND_MAGAZINES : (248, 2.798149610741284)\n",
      "SOCIAL : (236, 2.6627552747376737)\n",
      "TRAVEL_AND_LOCAL : (207, 2.335552296062281)\n",
      "SHOPPING : (199, 2.245289405393208)\n",
      "BOOKS_AND_REFERENCE : (190, 2.1437436533904997)\n",
      "DATING : (165, 1.8616721200496444)\n",
      "VIDEO_PLAYERS : (159, 1.7939749520478394)\n",
      "MAPS_AND_NAVIGATION : (124, 1.399074805370642)\n",
      "FOOD_AND_DRINK : (110, 1.241114746699763)\n",
      "EDUCATION : (103, 1.1621347173643235)\n",
      "ENTERTAINMENT : (85, 0.9590432133589079)\n",
      "LIBRARIES_AND_DEMO : (83, 0.9364774906916393)\n",
      "AUTO_AND_VEHICLES : (82, 0.9251946293580051)\n",
      "HOUSE_AND_HOME : (73, 0.8236488773552973)\n",
      "WEATHER : (71, 0.8010831546880289)\n",
      "EVENTS : (63, 0.7108202640189552)\n",
      "PARENTING : (58, 0.6544059573507841)\n",
      "ART_AND_DESIGN : (57, 0.6431230960171499)\n",
      "COMICS : (55, 0.6205573733498815)\n",
      "BEAUTY : (53, 0.5979916506826132)\n"
     ]
    }
   ],
   "source": [
    "display_table(free_apps_android, 1)"
   ]
  },
  {
   "cell_type": "markdown",
   "metadata": {},
   "source": [
    "Above, we can see that in Android's case, FAMILY tops the charts by a whopping 1675 counts, which is 18.89% of the play store market. On second place, we have GAME, which is almost half of the former at 9.72%. We can see COMICS and BEAUTY at the end with 0.62% and 0.59% respectively.\n",
    "\n",
    "We can see that there FAMILY can be taken as an outlier here and also most Categories lie at 1%, 2% or 3%."
   ]
  },
  {
   "cell_type": "code",
   "execution_count": 33,
   "metadata": {},
   "outputs": [
    {
     "name": "stdout",
     "output_type": "stream",
     "text": [
      "8863\n",
      "Tools : (749, 8.450863138892023)\n",
      "Entertainment : (538, 6.070179397495204)\n",
      "Education : (474, 5.348076272142616)\n",
      "Business : (407, 4.592124562789123)\n",
      "Productivity : (345, 3.8925871601038025)\n",
      "Lifestyle : (345, 3.8925871601038025)\n",
      "Finance : (328, 3.7007785174320205)\n",
      "Medical : (313, 3.5315355974275078)\n",
      "Sports : (307, 3.463838429425702)\n",
      "Personalization : (294, 3.317161232088458)\n",
      "Communication : (287, 3.2381812027530184)\n",
      "Action : (275, 3.102786866749408)\n",
      "Health & Fitness : (273, 3.0802211440821394)\n",
      "Photography : (261, 2.944826808078529)\n",
      "News & Magazines : (248, 2.798149610741284)\n",
      "Social : (236, 2.6627552747376737)\n",
      "Travel & Local : (206, 2.324269434728647)\n",
      "Shopping : (199, 2.245289405393208)\n",
      "Books & Reference : (190, 2.1437436533904997)\n",
      "Simulation : (181, 2.042197901387792)\n",
      "Dating : (165, 1.8616721200496444)\n",
      "Arcade : (164, 1.8503892587160102)\n",
      "Video Players & Editors : (157, 1.771409229380571)\n",
      "Casual : (156, 1.7601263680469368)\n",
      "Maps & Navigation : (124, 1.399074805370642)\n",
      "Food & Drink : (110, 1.241114746699763)\n",
      "Puzzle : (100, 1.128286133363421)\n",
      "Racing : (88, 0.9928917973598104)\n",
      "Role Playing : (83, 0.9364774906916393)\n",
      "Libraries & Demo : (83, 0.9364774906916393)\n",
      "Auto & Vehicles : (82, 0.9251946293580051)\n",
      "Strategy : (80, 0.9026289066907368)\n",
      "House & Home : (73, 0.8236488773552973)\n",
      "Weather : (71, 0.8010831546880289)\n",
      "Events : (63, 0.7108202640189552)\n",
      "Adventure : (60, 0.6769716800180525)\n",
      "Comics : (54, 0.6092745120162473)\n",
      "Beauty : (53, 0.5979916506826132)\n",
      "Art & Design : (53, 0.5979916506826132)\n",
      "Parenting : (44, 0.4964458986799052)\n",
      "Card : (40, 0.4513144533453684)\n",
      "Casino : (38, 0.42874873067809993)\n",
      "Trivia : (37, 0.4174658693444658)\n",
      "Educational;Education : (35, 0.3949001466771973)\n",
      "Board : (34, 0.38361728534356315)\n",
      "Educational : (33, 0.37233442400992894)\n",
      "Education;Education : (30, 0.33848584000902626)\n",
      "Word : (23, 0.25950581067358686)\n",
      "Casual;Pretend Play : (21, 0.2369400880063184)\n",
      "Music : (18, 0.20309150400541578)\n",
      "Racing;Action & Adventure : (15, 0.16924292000451313)\n",
      "Puzzle;Brain Games : (15, 0.16924292000451313)\n",
      "Entertainment;Music & Video : (15, 0.16924292000451313)\n",
      "Casual;Brain Games : (12, 0.1353943360036105)\n",
      "Casual;Action & Adventure : (12, 0.1353943360036105)\n",
      "Arcade;Action & Adventure : (11, 0.1241114746699763)\n",
      "Action;Action & Adventure : (9, 0.10154575200270789)\n",
      "Educational;Pretend Play : (8, 0.09026289066907367)\n",
      "Simulation;Action & Adventure : (7, 0.07898002933543948)\n",
      "Parenting;Education : (7, 0.07898002933543948)\n",
      "Entertainment;Brain Games : (7, 0.07898002933543948)\n",
      "Board;Brain Games : (7, 0.07898002933543948)\n",
      "Parenting;Music & Video : (6, 0.06769716800180525)\n",
      "Educational;Brain Games : (6, 0.06769716800180525)\n",
      "Casual;Creativity : (6, 0.06769716800180525)\n",
      "Art & Design;Creativity : (6, 0.06769716800180525)\n",
      "Education;Pretend Play : (5, 0.05641430666817105)\n",
      "Role Playing;Pretend Play : (4, 0.045131445334536835)\n",
      "Education;Creativity : (4, 0.045131445334536835)\n",
      "Role Playing;Action & Adventure : (3, 0.033848584000902626)\n",
      "Puzzle;Action & Adventure : (3, 0.033848584000902626)\n",
      "Entertainment;Creativity : (3, 0.033848584000902626)\n",
      "Entertainment;Action & Adventure : (3, 0.033848584000902626)\n",
      "Educational;Creativity : (3, 0.033848584000902626)\n",
      "Educational;Action & Adventure : (3, 0.033848584000902626)\n",
      "Education;Music & Video : (3, 0.033848584000902626)\n",
      "Education;Brain Games : (3, 0.033848584000902626)\n",
      "Education;Action & Adventure : (3, 0.033848584000902626)\n",
      "Adventure;Action & Adventure : (3, 0.033848584000902626)\n",
      "Video Players & Editors;Music & Video : (2, 0.022565722667268417)\n",
      "Sports;Action & Adventure : (2, 0.022565722667268417)\n",
      "Simulation;Pretend Play : (2, 0.022565722667268417)\n",
      "Puzzle;Creativity : (2, 0.022565722667268417)\n",
      "Music;Music & Video : (2, 0.022565722667268417)\n",
      "Entertainment;Pretend Play : (2, 0.022565722667268417)\n",
      "Casual;Education : (2, 0.022565722667268417)\n",
      "Board;Action & Adventure : (2, 0.022565722667268417)\n",
      "Video Players & Editors;Creativity : (1, 0.011282861333634209)\n",
      "Trivia;Education : (1, 0.011282861333634209)\n",
      "Travel & Local;Action & Adventure : (1, 0.011282861333634209)\n",
      "Tools;Education : (1, 0.011282861333634209)\n",
      "Strategy;Education : (1, 0.011282861333634209)\n",
      "Strategy;Creativity : (1, 0.011282861333634209)\n",
      "Strategy;Action & Adventure : (1, 0.011282861333634209)\n",
      "Simulation;Education : (1, 0.011282861333634209)\n",
      "Role Playing;Brain Games : (1, 0.011282861333634209)\n",
      "Racing;Pretend Play : (1, 0.011282861333634209)\n",
      "Puzzle;Education : (1, 0.011282861333634209)\n",
      "Parenting;Brain Games : (1, 0.011282861333634209)\n",
      "Music & Audio;Music & Video : (1, 0.011282861333634209)\n",
      "Lifestyle;Pretend Play : (1, 0.011282861333634209)\n",
      "Lifestyle;Education : (1, 0.011282861333634209)\n",
      "Health & Fitness;Education : (1, 0.011282861333634209)\n",
      "Health & Fitness;Action & Adventure : (1, 0.011282861333634209)\n",
      "Entertainment;Education : (1, 0.011282861333634209)\n",
      "Communication;Creativity : (1, 0.011282861333634209)\n",
      "Comics;Creativity : (1, 0.011282861333634209)\n",
      "Casual;Music & Video : (1, 0.011282861333634209)\n",
      "Card;Action & Adventure : (1, 0.011282861333634209)\n",
      "Books & Reference;Education : (1, 0.011282861333634209)\n",
      "Art & Design;Pretend Play : (1, 0.011282861333634209)\n",
      "Art & Design;Action & Adventure : (1, 0.011282861333634209)\n",
      "Arcade;Pretend Play : (1, 0.011282861333634209)\n",
      "Adventure;Education : (1, 0.011282861333634209)\n"
     ]
    }
   ],
   "source": [
    "display_table(free_apps_android, -4)"
   ]
  },
  {
   "cell_type": "markdown",
   "metadata": {},
   "source": [
    "The category column of Google Playstore dataset, seen above shows us that tools has the highest percentage of 8.45% and Adventure;Education has the lowest with 1% and 0.01%."
   ]
  },
  {
   "cell_type": "markdown",
   "metadata": {},
   "source": [
    "When comparing the two datasets given above, it is clear that in both markets, entertainment applications are extremely popular. Then, lifestyle and educational apps and finally medical, beauty etc."
   ]
  },
  {
   "cell_type": "markdown",
   "metadata": {},
   "source": [
    "After analyzing all the patterns above, it is quite clear that an application with entertainment as a genre (whether it is games or photography, or social media) would be a crowded place to start."
   ]
  },
  {
   "cell_type": "code",
   "execution_count": 38,
   "metadata": {},
   "outputs": [
    {
     "name": "stdout",
     "output_type": "stream",
     "text": [
      "3222\n",
      "{'Social Networking': (106, 3.2898820608317814), 'Photo & Video': (160, 4.9658597144630665), 'Games': (1874, 58.16263190564867), 'Music': (66, 2.0484171322160147), 'Reference': (18, 0.5586592178770949), 'Health & Fitness': (65, 2.0173805090006205), 'Weather': (28, 0.8690254500310366), 'Utilities': (81, 2.5139664804469275), 'Travel': (40, 1.2414649286157666), 'Shopping': (84, 2.60707635009311), 'News': (43, 1.3345747982619491), 'Navigation': (6, 0.186219739292365), 'Lifestyle': (51, 1.5828677839851024), 'Entertainment': (254, 7.883302296710118), 'Food & Drink': (26, 0.8069522036002483), 'Sports': (69, 2.1415270018621975), 'Book': (14, 0.4345127250155183), 'Finance': (36, 1.1173184357541899), 'Education': (118, 3.662321539416512), 'Productivity': (56, 1.7380509000620732), 'Business': (17, 0.5276225946617008), 'Catalogs': (4, 0.12414649286157665), 'Medical': (6, 0.186219739292365)}\n"
     ]
    }
   ],
   "source": [
    "prime_genre_freq = freq_table(free_apps_ios, -5)\n",
    "print(prime_genre_freq)"
   ]
  },
  {
   "cell_type": "code",
   "execution_count": 56,
   "metadata": {},
   "outputs": [
    {
     "name": "stdout",
     "output_type": "stream",
     "text": [
      "Social Networking: 45498.89820359281\n",
      "Music: 28842.021739130436\n",
      "Reference: 22410.84375\n",
      "Weather: 22181.027777777777\n",
      "Shopping: 18615.32786885246\n",
      "Photo & Video: 14352.280802292264\n",
      "Travel: 14129.444444444445\n",
      "Sports: 14026.929824561403\n",
      "Food & Drink: 13938.619047619048\n",
      "Games: 13691.996633868463\n",
      "News: 13015.066666666668\n",
      "Navigation: 11853.95652173913\n",
      "Finance: 11047.653846153846\n",
      "Health & Fitness: 9913.172222222222\n",
      "Productivity: 8051.3258426966295\n",
      "Entertainment: 7533.678504672897\n",
      "Utilities: 6863.822580645161\n",
      "Lifestyle: 6161.763888888889\n",
      "Book: 5125.4375\n",
      "Business: 4788.087719298245\n",
      "Education: 2239.2295805739514\n",
      "Catalogs: 1732.5\n",
      "Medical: 592.7826086956521\n"
     ]
    }
   ],
   "source": [
    "empt_dict = {}\n",
    "for i in prime_genre_freq:\n",
    "    total = 0\n",
    "    len_genre = 0\n",
    "    for j in iosC:\n",
    "        genre_app = j[-5]\n",
    "        if i == genre_app:\n",
    "            usr_Rat = float(j[5])\n",
    "            total += usr_Rat\n",
    "            len_genre += 1\n",
    "    user_Ratings = total / len_genre\n",
    "    empt_dict[i] = user_Ratings\n",
    "#     print(empt_dict)\n",
    "\n",
    "sorted_dict = sorted(empt_dict.items(), key=lambda x: x[1], reverse = True)\n",
    "\n",
    "for genre, avgRating in sorted_dict:\n",
    "    print(f\"{genre}: {avgRating}\")"
   ]
  },
  {
   "cell_type": "markdown",
   "metadata": {},
   "source": [
    "According to the results gotton above, we see that Social Networking is the most popular with the most amount of ratings, followed by Music which was quite clear. However, Reference was a surprise. At the end, we can see Education, Catalogs and Medical with Medical having the least with only 592.78.\n",
    "\n",
    "If, we come up with a Social Networking application or a Music app, it would be more popular among the users."
   ]
  },
  {
   "cell_type": "code",
   "execution_count": 58,
   "metadata": {},
   "outputs": [
    {
     "name": "stdout",
     "output_type": "stream",
     "text": [
      "8863\n"
     ]
    }
   ],
   "source": [
    "unique_genres = freq_table(free_apps_android, 1)"
   ]
  },
  {
   "cell_type": "code",
   "execution_count": 68,
   "metadata": {},
   "outputs": [
    {
     "name": "stdout",
     "output_type": "stream",
     "text": [
      "COMMUNICATION : 84359886.95348836\n",
      "SOCIAL : 47694467.46440678\n",
      "VIDEO_PLAYERS : 35554301.25714286\n",
      "PRODUCTIVITY : 33434177.75707547\n",
      "GAME : 30669601.761363637\n",
      "PHOTOGRAPHY : 30114172.10447761\n",
      "TRAVEL_AND_LOCAL : 26623593.58914729\n",
      "NEWS_AND_MAGAZINES : 26488755.335689045\n",
      "ENTERTAINMENT : 19256107.382550336\n",
      "TOOLS : 13585731.809015421\n",
      "SHOPPING : 12491726.096153846\n",
      "BOOKS_AND_REFERENCE : 8318050.112554112\n",
      "PERSONALIZATION : 5932384.647959184\n",
      "EDUCATION : 5586230.769230769\n",
      "MAPS_AND_NAVIGATION : 5286729.124087592\n",
      "FAMILY : 5201959.181034483\n",
      "WEATHER : 5196347.804878049\n",
      "HEALTH_AND_FITNESS : 4642441.3841642225\n",
      "SPORTS : 4560350.255208333\n",
      "FINANCE : 2395215.120218579\n",
      "BUSINESS : 2178075.7934782607\n",
      "FOOD_AND_DRINK : 2156683.0787401577\n",
      "HOUSE_AND_HOME : 1917187.0568181819\n",
      "ART_AND_DESIGN : 1912893.8461538462\n",
      "LIFESTYLE : 1407443.8193717278\n",
      "DATING : 1129533.3632478632\n",
      "COMICS : 934769.1666666666\n",
      "LIBRARIES_AND_DEMO : 741128.3529411765\n",
      "AUTO_AND_VEHICLES : 625061.305882353\n",
      "PARENTING : 525351.8333333334\n",
      "BEAUTY : 513151.88679245283\n",
      "EVENTS : 249580.640625\n",
      "MEDICAL : 115026.86177105832\n"
     ]
    }
   ],
   "source": [
    "category_dict = {}\n",
    "for category in unique_genres:\n",
    "    total = 0\n",
    "    len_category = 0\n",
    "    for j in androidC:\n",
    "        category_app = j[1]\n",
    "        if category_app == category:\n",
    "            no_of_installs = j[5]\n",
    "            n_installs = no_of_installs.replace('+','')\n",
    "            ntwo_installs = n_installs.replace(',','')\n",
    "            no_o_i = float(ntwo_installs)\n",
    "            total += no_o_i\n",
    "            len_category += 1\n",
    "            \n",
    "    avg_no_of_installs = total / len_category\n",
    "    category_dict[category] = avg_no_of_installs\n",
    "   \n",
    "# print(category_dict)\n",
    "\n",
    "sorted_categories = sorted(category_dict.items(), key = lambda x: x[1], reverse = True)\n",
    "\n",
    "for genre, installs in sorted_categories:\n",
    "    print(f\"{genre} : {installs}\")"
   ]
  },
  {
   "cell_type": "markdown",
   "metadata": {},
   "source": [
    "Above, in the case of _Android apps_ on _Google Play Store_, we see that `COMMUNICATION` genre is the highest installed genre with __84359886.95348836__ average installs followed by `SOCIAL` with __47694467.46440678__ average installs. `EVENTS` and `MEDICAL` are the lowest installed genres with __249580.640625__ for the former and __115026.86177105832__ for the latter respectively"
   ]
  }
 ],
 "metadata": {
  "kernelspec": {
   "display_name": "Python 3",
   "language": "python",
   "name": "python3"
  },
  "language_info": {
   "codemirror_mode": {
    "name": "ipython",
    "version": 3
   },
   "file_extension": ".py",
   "mimetype": "text/x-python",
   "name": "python",
   "nbconvert_exporter": "python",
   "pygments_lexer": "ipython3",
   "version": "3.8.2"
  }
 },
 "nbformat": 4,
 "nbformat_minor": 2
}
